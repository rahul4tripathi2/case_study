{
 "cells": [
  {
   "cell_type": "markdown",
   "metadata": {},
   "source": [
    "### Multiclass classification problem"
   ]
  },
  {
   "cell_type": "markdown",
   "metadata": {},
   "source": [
    "# machine learning process\n",
    "1. Objective\n",
    "2. Data Loading - loading given train/test dataset\n",
    "3. Data Pre-Processing - Feature Selection, categorical-mapping,train-test split\n",
    "4. Data Exploration - seaborn,matplotlib\n",
    "5. Model Training -  ['Random Forest','Decision Tree', 'SVC', 'LogisticRegression', 'KNeighborsClassifier', 'AdaBoostClassifier', 'GradientBoostingClassifier' ]\n",
    "6. HyperParameter tuning - GridSearchCV[Parameter selection]\n",
    "7. Model Evaluation - cohen_kappa_score,f1_score(micro),accuracy"
   ]
  },
  {
   "cell_type": "markdown",
   "metadata": {},
   "source": [
    "#### dependency installation\n",
    "    to perform sampling of dataset please install below library in Anaconda\n",
    "    using anacoda\n",
    "    conda install -c glemaitre imbalanced-learn\n",
    "    using pip\n",
    "    pip install -U imbalanced-learn   "
   ]
  },
  {
   "cell_type": "markdown",
   "metadata": {},
   "source": [
    " ### Objective - Evaluation of object based on given features [multiclass problem]\n",
    "\n",
    "    Attributes[Independent variables]: \n",
    "    purchasing_cost: very_high, high, medium, low\n",
    "    repair_cost: very_high, high, medium, low\n",
    "    windows: 2, 3, 4, 5more\n",
    "    people: 2, 4, more\n",
    "    space: small, medium, big \n",
    "    safety: low, med, high\n",
    "    \n",
    "    Object Values[dependent variable]: \n",
    "    unacceptable,acceptable,good,very_good\n",
    "    \n",
    "    train.csv: \n",
    "    1383 records\n",
    "    test.csv:\n",
    "    347 records"
   ]
  },
  {
   "cell_type": "markdown",
   "metadata": {},
   "source": [
    "#### Data Loading - loading train and test data using data_loading function"
   ]
  },
  {
   "cell_type": "code",
   "execution_count": 1,
   "metadata": {},
   "outputs": [
    {
     "name": "stderr",
     "output_type": "stream",
     "text": [
      "C:\\Users\\rahul.a.tripathi\\AppData\\Local\\Continuum\\anaconda2\\lib\\site-packages\\sklearn\\cross_validation.py:41: DeprecationWarning: This module was deprecated in version 0.18 in favor of the model_selection module into which all the refactored classes and functions are moved. Also note that the interface of the new CV iterators are different from that of this module. This module will be removed in 0.20.\n",
      "  \"This module will be removed in 0.20.\", DeprecationWarning)\n"
     ]
    }
   ],
   "source": [
    "# Importing all required libraries\n",
    "import pandas as pd\n",
    "import numpy as np\n",
    "import matplotlib.pyplot as plt\n",
    "from sklearn.metrics import roc_curve, auc\n",
    "from sklearn.metrics import cohen_kappa_score\n",
    "import seaborn as sns\n",
    "from sklearn.model_selection import cross_val_score\n",
    "from sklearn.metrics import accuracy_score, log_loss\n",
    "from imblearn.under_sampling import NearMiss\n",
    "from collections import Counter\n",
    "from sklearn.model_selection import GridSearchCV\n",
    "from sklearn import tree\n",
    "from sklearn.cross_validation import train_test_split\n",
    "from sklearn import linear_model\n",
    "from sklearn import svm\n",
    "from sklearn.neighbors import KNeighborsClassifier\n",
    "from sklearn.ensemble import RandomForestClassifier\n",
    "from sklearn.ensemble import GradientBoostingClassifier\n",
    "from sklearn.ensemble import AdaBoostClassifier"
   ]
  },
  {
   "cell_type": "code",
   "execution_count": 2,
   "metadata": {
    "collapsed": true
   },
   "outputs": [],
   "source": [
    "location = 'C:\\AI\\case_study\\multiclass_classification_2' # please change the base location to load dataset\n",
    "def data_loading(location):\n",
    "    train = pd.read_csv(location + '\\\\' + 'train.csv')    # loading train dataset\n",
    "    test = pd.read_csv(location + '\\\\' + 'test.csv')      # loading test dataset\n",
    "    return train,test                                     # returning train and test data"
   ]
  },
  {
   "cell_type": "code",
   "execution_count": 3,
   "metadata": {},
   "outputs": [
    {
     "data": {
      "text/html": [
       "<div>\n",
       "<style>\n",
       "    .dataframe thead tr:only-child th {\n",
       "        text-align: right;\n",
       "    }\n",
       "\n",
       "    .dataframe thead th {\n",
       "        text-align: left;\n",
       "    }\n",
       "\n",
       "    .dataframe tbody tr th {\n",
       "        vertical-align: top;\n",
       "    }\n",
       "</style>\n",
       "<table border=\"1\" class=\"dataframe\">\n",
       "  <thead>\n",
       "    <tr style=\"text-align: right;\">\n",
       "      <th></th>\n",
       "      <th>purchasing_cost</th>\n",
       "      <th>repair_cost</th>\n",
       "      <th>windows</th>\n",
       "      <th>people</th>\n",
       "      <th>space</th>\n",
       "      <th>safety</th>\n",
       "      <th>label</th>\n",
       "    </tr>\n",
       "  </thead>\n",
       "  <tbody>\n",
       "    <tr>\n",
       "      <th>0</th>\n",
       "      <td>high</td>\n",
       "      <td>very_high</td>\n",
       "      <td>5more</td>\n",
       "      <td>more</td>\n",
       "      <td>medium</td>\n",
       "      <td>med</td>\n",
       "      <td>unacceptable</td>\n",
       "    </tr>\n",
       "    <tr>\n",
       "      <th>1</th>\n",
       "      <td>very_high</td>\n",
       "      <td>medium</td>\n",
       "      <td>4</td>\n",
       "      <td>more</td>\n",
       "      <td>big</td>\n",
       "      <td>low</td>\n",
       "      <td>unacceptable</td>\n",
       "    </tr>\n",
       "    <tr>\n",
       "      <th>2</th>\n",
       "      <td>medium</td>\n",
       "      <td>medium</td>\n",
       "      <td>5more</td>\n",
       "      <td>4</td>\n",
       "      <td>medium</td>\n",
       "      <td>low</td>\n",
       "      <td>unacceptable</td>\n",
       "    </tr>\n",
       "    <tr>\n",
       "      <th>3</th>\n",
       "      <td>high</td>\n",
       "      <td>high</td>\n",
       "      <td>2</td>\n",
       "      <td>more</td>\n",
       "      <td>medium</td>\n",
       "      <td>high</td>\n",
       "      <td>acceptable</td>\n",
       "    </tr>\n",
       "    <tr>\n",
       "      <th>4</th>\n",
       "      <td>high</td>\n",
       "      <td>very_high</td>\n",
       "      <td>5more</td>\n",
       "      <td>2</td>\n",
       "      <td>big</td>\n",
       "      <td>high</td>\n",
       "      <td>unacceptable</td>\n",
       "    </tr>\n",
       "  </tbody>\n",
       "</table>\n",
       "</div>"
      ],
      "text/plain": [
       "  purchasing_cost repair_cost windows people   space safety         label\n",
       "0            high   very_high   5more   more  medium    med  unacceptable\n",
       "1       very_high      medium       4   more     big    low  unacceptable\n",
       "2          medium      medium   5more      4  medium    low  unacceptable\n",
       "3            high        high       2   more  medium   high    acceptable\n",
       "4            high   very_high   5more      2     big   high  unacceptable"
      ]
     },
     "execution_count": 3,
     "metadata": {},
     "output_type": "execute_result"
    }
   ],
   "source": [
    "train,test = data_loading(location)                       # storing dataset as train and test dataset\n",
    "train.head()                                              # print five records of train data"
   ]
  },
  {
   "cell_type": "markdown",
   "metadata": {},
   "source": [
    "#### Data pre-processing\n",
    "\n",
    "__Analysis__ -\n",
    "1. Given train/test dataset contain categorical variable I tried first LabelEncoding but label encoding is not good option here reason is\n",
    "        I. LabelEncoding always perform encoding in alphabetical order which is not correct in our dataset as it is encoding  high as 0 which is not correct. It will not preserve the significance of all categorical values.\n",
    "           \n",
    "__Solution__ \n",
    "\n",
    "        I. For solving this issue we have to manually map the categorical values in key:value pair\n",
    "        II.manually mapping is done by data_preprocessing() which will return encoded train/test data"
   ]
  },
  {
   "cell_type": "code",
   "execution_count": 4,
   "metadata": {
    "collapsed": true
   },
   "outputs": [],
   "source": [
    "# manually encoding train/test data as key:value pair\n",
    "def data_preprocessing(location):\n",
    "    train = pd.read_csv(location + '\\\\' + 'train.csv')                      # reading train.csv from base location\n",
    "    # encoding all train categorical variable by mapping all values in key:value pair\n",
    "    train['purchasing_cost'] = train['purchasing_cost'].map({'very_high' : 3,'high' : 2, 'medium' : 1, 'low' : 0})\n",
    "    train['repair_cost'] = train['repair_cost'].map({'very_high' : 3,'high' : 2, 'medium' : 1, 'low' : 0})\n",
    "    train['windows'] = train['windows'].map({'5more' : 5, '2' : 2,'3' : 3, '4' : 4})\n",
    "    train['people'] = train['people'].map({'more' : 5, '2' : 2, '4' : 4})\n",
    "    train['space'] = train['space'].map({'small' : 0,'medium' : 1, 'big' : 2})\n",
    "    train['safety'] = train['safety'].map({'low' : 0,'med' : 1, 'high' : 2})\n",
    "    train['label'] = train['label'].map({'unacceptable' : 0,'acceptable' : 1,'good' : 2,'very_good' : 3})\n",
    "    \n",
    "    test = pd.read_csv(location + '\\\\' + 'test.csv')                        # reading train.csv from base location\n",
    "    # encoding all train categorical variable by mapping all values in key:value pair\n",
    "    test['purchasing_cost'] = test['purchasing_cost'].map({'very_high' : 3,'high' : 2, 'medium' : 1, 'low' : 0})\n",
    "    test['repair_cost'] = test['repair_cost'].map({'very_high' : 3,'high' : 2, 'medium' : 1, 'low' : 0})\n",
    "    test['windows'] = test['windows'].map({'5more' : 5, '2' : 2,'3' : 3, '4' : 4})\n",
    "    test['people'] = test['people'].map({'more' : 5, '2' : 2, '4' : 4})\n",
    "    test['space'] = test['space'].map({'small' : 0,'medium' : 1, 'big' : 2})\n",
    "    test['safety'] = test['safety'].map({'low' : 0,'medium' : 1, 'high' : 2})\n",
    "            \n",
    "    return train, test"
   ]
  },
  {
   "cell_type": "code",
   "execution_count": 5,
   "metadata": {
    "collapsed": true
   },
   "outputs": [],
   "source": [
    "train, test = data_preprocessing(location)   # saving encoded train and test data in train and test dataframe"
   ]
  },
  {
   "cell_type": "code",
   "execution_count": 6,
   "metadata": {
    "collapsed": true
   },
   "outputs": [],
   "source": [
    "# Splitting the trainset into the Training set and Test set in 70:30 ratio\n",
    "def train_test_split(train,test):\n",
    "    X = train.iloc[:,0:6]                                      # reading independent features using index\n",
    "    y = train.iloc[:,6]                                        # reading target variable\n",
    "\n",
    "    \n",
    "    from sklearn.cross_validation import train_test_split\n",
    "    X_train, X_test, y_train, y_test = train_test_split(X, y, test_size = 0.30, random_state = 0)   # spliting in 70:30 ratio  \n",
    "    return X_train, X_test, y_train, y_test                                                         # returning X_train, X_test, y_train, y_test"
   ]
  },
  {
   "cell_type": "code",
   "execution_count": 7,
   "metadata": {
    "collapsed": true
   },
   "outputs": [],
   "source": [
    "X_train, X_test, y_train, y_test = train_test_split(train,test)  # saving train_test split function data in X_train, X_test, y_train, y_test "
   ]
  },
  {
   "cell_type": "markdown",
   "metadata": {},
   "source": [
    " ### Data Exploration - using seaborn and matplotlib"
   ]
  },
  {
   "cell_type": "code",
   "execution_count": 8,
   "metadata": {},
   "outputs": [
    {
     "data": {
      "text/html": [
       "<div>\n",
       "<style>\n",
       "    .dataframe thead tr:only-child th {\n",
       "        text-align: right;\n",
       "    }\n",
       "\n",
       "    .dataframe thead th {\n",
       "        text-align: left;\n",
       "    }\n",
       "\n",
       "    .dataframe tbody tr th {\n",
       "        vertical-align: top;\n",
       "    }\n",
       "</style>\n",
       "<table border=\"1\" class=\"dataframe\">\n",
       "  <thead>\n",
       "    <tr style=\"text-align: right;\">\n",
       "      <th></th>\n",
       "      <th>purchasing_cost</th>\n",
       "      <th>repair_cost</th>\n",
       "      <th>windows</th>\n",
       "      <th>people</th>\n",
       "      <th>space</th>\n",
       "      <th>safety</th>\n",
       "      <th>label</th>\n",
       "    </tr>\n",
       "  </thead>\n",
       "  <tbody>\n",
       "    <tr>\n",
       "      <th>0</th>\n",
       "      <td>2</td>\n",
       "      <td>3</td>\n",
       "      <td>5</td>\n",
       "      <td>5</td>\n",
       "      <td>1</td>\n",
       "      <td>1</td>\n",
       "      <td>0</td>\n",
       "    </tr>\n",
       "    <tr>\n",
       "      <th>1</th>\n",
       "      <td>3</td>\n",
       "      <td>1</td>\n",
       "      <td>4</td>\n",
       "      <td>5</td>\n",
       "      <td>2</td>\n",
       "      <td>0</td>\n",
       "      <td>0</td>\n",
       "    </tr>\n",
       "    <tr>\n",
       "      <th>2</th>\n",
       "      <td>1</td>\n",
       "      <td>1</td>\n",
       "      <td>5</td>\n",
       "      <td>4</td>\n",
       "      <td>1</td>\n",
       "      <td>0</td>\n",
       "      <td>0</td>\n",
       "    </tr>\n",
       "    <tr>\n",
       "      <th>3</th>\n",
       "      <td>2</td>\n",
       "      <td>2</td>\n",
       "      <td>2</td>\n",
       "      <td>5</td>\n",
       "      <td>1</td>\n",
       "      <td>2</td>\n",
       "      <td>1</td>\n",
       "    </tr>\n",
       "    <tr>\n",
       "      <th>4</th>\n",
       "      <td>2</td>\n",
       "      <td>3</td>\n",
       "      <td>5</td>\n",
       "      <td>2</td>\n",
       "      <td>2</td>\n",
       "      <td>2</td>\n",
       "      <td>0</td>\n",
       "    </tr>\n",
       "  </tbody>\n",
       "</table>\n",
       "</div>"
      ],
      "text/plain": [
       "   purchasing_cost  repair_cost  windows  people  space  safety  label\n",
       "0                2            3        5       5      1       1      0\n",
       "1                3            1        4       5      2       0      0\n",
       "2                1            1        5       4      1       0      0\n",
       "3                2            2        2       5      1       2      1\n",
       "4                2            3        5       2      2       2      0"
      ]
     },
     "execution_count": 8,
     "metadata": {},
     "output_type": "execute_result"
    }
   ],
   "source": [
    "# calling data_preprocssing function and printing top 5 records\n",
    "train,test = data_preprocessing(location)\n",
    "train.head()                           # printing five records of train data                      "
   ]
  },
  {
   "cell_type": "code",
   "execution_count": 9,
   "metadata": {},
   "outputs": [
    {
     "data": {
      "text/html": [
       "<div>\n",
       "<style>\n",
       "    .dataframe thead tr:only-child th {\n",
       "        text-align: right;\n",
       "    }\n",
       "\n",
       "    .dataframe thead th {\n",
       "        text-align: left;\n",
       "    }\n",
       "\n",
       "    .dataframe tbody tr th {\n",
       "        vertical-align: top;\n",
       "    }\n",
       "</style>\n",
       "<table border=\"1\" class=\"dataframe\">\n",
       "  <thead>\n",
       "    <tr style=\"text-align: right;\">\n",
       "      <th></th>\n",
       "      <th>purchasing_cost</th>\n",
       "      <th>repair_cost</th>\n",
       "      <th>windows</th>\n",
       "      <th>people</th>\n",
       "      <th>space</th>\n",
       "      <th>safety</th>\n",
       "    </tr>\n",
       "  </thead>\n",
       "  <tbody>\n",
       "    <tr>\n",
       "      <th>0</th>\n",
       "      <td>0</td>\n",
       "      <td>1</td>\n",
       "      <td>2</td>\n",
       "      <td>2</td>\n",
       "      <td>1</td>\n",
       "      <td>2</td>\n",
       "    </tr>\n",
       "    <tr>\n",
       "      <th>1</th>\n",
       "      <td>2</td>\n",
       "      <td>2</td>\n",
       "      <td>4</td>\n",
       "      <td>2</td>\n",
       "      <td>2</td>\n",
       "      <td>2</td>\n",
       "    </tr>\n",
       "    <tr>\n",
       "      <th>2</th>\n",
       "      <td>0</td>\n",
       "      <td>3</td>\n",
       "      <td>5</td>\n",
       "      <td>2</td>\n",
       "      <td>0</td>\n",
       "      <td>0</td>\n",
       "    </tr>\n",
       "    <tr>\n",
       "      <th>3</th>\n",
       "      <td>2</td>\n",
       "      <td>3</td>\n",
       "      <td>5</td>\n",
       "      <td>5</td>\n",
       "      <td>1</td>\n",
       "      <td>0</td>\n",
       "    </tr>\n",
       "    <tr>\n",
       "      <th>4</th>\n",
       "      <td>1</td>\n",
       "      <td>0</td>\n",
       "      <td>4</td>\n",
       "      <td>4</td>\n",
       "      <td>0</td>\n",
       "      <td>0</td>\n",
       "    </tr>\n",
       "  </tbody>\n",
       "</table>\n",
       "</div>"
      ],
      "text/plain": [
       "   purchasing_cost  repair_cost  windows  people  space  safety\n",
       "0                0            1        2       2      1       2\n",
       "1                2            2        4       2      2       2\n",
       "2                0            3        5       2      0       0\n",
       "3                2            3        5       5      1       0\n",
       "4                1            0        4       4      0       0"
      ]
     },
     "execution_count": 9,
     "metadata": {},
     "output_type": "execute_result"
    }
   ],
   "source": [
    "test.head()                           # printing five records of test data  "
   ]
  },
  {
   "cell_type": "markdown",
   "metadata": {},
   "source": [
    "#####  Visualization\n",
    "\n",
    "label class encoding - {'unacceptable' : 0,'acceptable' : 1,'good' : 2,'very_good' : 3}\n",
    "\n",
    "__ Analysis__\n",
    "             1. By doing visualising we are checking whether there is any class imbalance problem or not.\n",
    "             II. printing hist() of train label\n",
    "             III. Cleary dataset is suffering from class imbalance problem where unacceptable(0) class is in majority\n",
    "             IV. Checking which features impacting the label class using seaborn pairplot\n",
    "             seaborn pairplot - Plot pairwise relationships in a dataset.\n",
    "                     a. purchasing_cost impacting more 0 and 1 class\n",
    "                     b. windows feature is impacting all classes\n",
    "__Finding__\n",
    "            1. Dataset is suffering from class imbalance problem"
   ]
  },
  {
   "cell_type": "code",
   "execution_count": 10,
   "metadata": {},
   "outputs": [
    {
     "data": {
      "text/plain": [
       "(array([974.,   0.,   0., 298.,   0.,   0.,  54.,   0.,   0.,  56.]),\n",
       " array([0. , 0.3, 0.6, 0.9, 1.2, 1.5, 1.8, 2.1, 2.4, 2.7, 3. ]),\n",
       " <a list of 10 Patch objects>)"
      ]
     },
     "execution_count": 10,
     "metadata": {},
     "output_type": "execute_result"
    },
    {
     "data": {
      "image/png": "[encoded data removed]",
      "text/plain": [
       "<matplotlib.figure.Figure at 0x1471d6d8>"
      ]
     },
     "metadata": {},
     "output_type": "display_data"
    }
   ],
   "source": [
    "# matplotlib inline sets the backend of matplotlib to the 'inline' backend\n",
    "%matplotlib inline   \n",
    "# visualising label to see whether class is imbalance or not\n",
    "plt.hist((train.label))"
   ]
  },
  {
   "cell_type": "code",
   "execution_count": 11,
   "metadata": {},
   "outputs": [
    {
     "data": {
      "text/plain": [
       "<matplotlib.axes._subplots.AxesSubplot at 0x148a42b0>"
      ]
     },
     "execution_count": 11,
     "metadata": {},
     "output_type": "execute_result"
    },
    {
     "data": {
      "image/png": "[encoded data removed]",
      "text/plain": [
       "<matplotlib.figure.Figure at 0x148c2518>"
      ]
     },
     "metadata": {},
     "output_type": "display_data"
    }
   ],
   "source": [
    "# using seaborn library\n",
    "sns.distplot(train['label'], bins=20 )"
   ]
  },
  {
   "cell_type": "code",
   "execution_count": 12,
   "metadata": {},
   "outputs": [
    {
     "data": {
      "text/html": [
       "<div>\n",
       "<style>\n",
       "    .dataframe thead tr:only-child th {\n",
       "        text-align: right;\n",
       "    }\n",
       "\n",
       "    .dataframe thead th {\n",
       "        text-align: left;\n",
       "    }\n",
       "\n",
       "    .dataframe tbody tr th {\n",
       "        vertical-align: top;\n",
       "    }\n",
       "</style>\n",
       "<table border=\"1\" class=\"dataframe\">\n",
       "  <thead>\n",
       "    <tr style=\"text-align: right;\">\n",
       "      <th></th>\n",
       "      <th>purchasing_cost</th>\n",
       "    </tr>\n",
       "    <tr>\n",
       "      <th>label</th>\n",
       "      <th></th>\n",
       "    </tr>\n",
       "  </thead>\n",
       "  <tbody>\n",
       "    <tr>\n",
       "      <th>0</th>\n",
       "      <td>70.477569</td>\n",
       "    </tr>\n",
       "    <tr>\n",
       "      <th>1</th>\n",
       "      <td>21.562952</td>\n",
       "    </tr>\n",
       "    <tr>\n",
       "      <th>2</th>\n",
       "      <td>3.907381</td>\n",
       "    </tr>\n",
       "    <tr>\n",
       "      <th>3</th>\n",
       "      <td>4.052098</td>\n",
       "    </tr>\n",
       "  </tbody>\n",
       "</table>\n",
       "</div>"
      ],
      "text/plain": [
       "       purchasing_cost\n",
       "label                 \n",
       "0            70.477569\n",
       "1            21.562952\n",
       "2             3.907381\n",
       "3             4.052098"
      ]
     },
     "execution_count": 12,
     "metadata": {},
     "output_type": "execute_result"
    }
   ],
   "source": [
    "# seeing how much % each class belong\n",
    "train.pivot_table(index=['label'], values=['purchasing_cost'], aggfunc=len).div(len(train.index)).mul(100) "
   ]
  },
  {
   "cell_type": "code",
   "execution_count": 13,
   "metadata": {},
   "outputs": [
    {
     "data": {
      "text/html": [
       "<div>\n",
       "<style>\n",
       "    .dataframe thead tr:only-child th {\n",
       "        text-align: right;\n",
       "    }\n",
       "\n",
       "    .dataframe thead th {\n",
       "        text-align: left;\n",
       "    }\n",
       "\n",
       "    .dataframe tbody tr th {\n",
       "        vertical-align: top;\n",
       "    }\n",
       "</style>\n",
       "<table border=\"1\" class=\"dataframe\">\n",
       "  <thead>\n",
       "    <tr style=\"text-align: right;\">\n",
       "      <th></th>\n",
       "      <th>count</th>\n",
       "      <th>mean</th>\n",
       "      <th>std</th>\n",
       "      <th>min</th>\n",
       "      <th>25%</th>\n",
       "      <th>50%</th>\n",
       "      <th>75%</th>\n",
       "      <th>max</th>\n",
       "    </tr>\n",
       "  </thead>\n",
       "  <tbody>\n",
       "    <tr>\n",
       "      <th>purchasing_cost</th>\n",
       "      <td>1382.0</td>\n",
       "      <td>1.490593</td>\n",
       "      <td>1.126142</td>\n",
       "      <td>0.0</td>\n",
       "      <td>0.0</td>\n",
       "      <td>1.0</td>\n",
       "      <td>3.0</td>\n",
       "      <td>3.0</td>\n",
       "    </tr>\n",
       "    <tr>\n",
       "      <th>repair_cost</th>\n",
       "      <td>1382.0</td>\n",
       "      <td>1.495658</td>\n",
       "      <td>1.112588</td>\n",
       "      <td>0.0</td>\n",
       "      <td>1.0</td>\n",
       "      <td>2.0</td>\n",
       "      <td>2.0</td>\n",
       "      <td>3.0</td>\n",
       "    </tr>\n",
       "    <tr>\n",
       "      <th>windows</th>\n",
       "      <td>1382.0</td>\n",
       "      <td>3.522431</td>\n",
       "      <td>1.117566</td>\n",
       "      <td>2.0</td>\n",
       "      <td>3.0</td>\n",
       "      <td>4.0</td>\n",
       "      <td>5.0</td>\n",
       "      <td>5.0</td>\n",
       "    </tr>\n",
       "    <tr>\n",
       "      <th>people</th>\n",
       "      <td>1382.0</td>\n",
       "      <td>3.650507</td>\n",
       "      <td>1.242558</td>\n",
       "      <td>2.0</td>\n",
       "      <td>2.0</td>\n",
       "      <td>4.0</td>\n",
       "      <td>5.0</td>\n",
       "      <td>5.0</td>\n",
       "    </tr>\n",
       "    <tr>\n",
       "      <th>space</th>\n",
       "      <td>1382.0</td>\n",
       "      <td>1.005789</td>\n",
       "      <td>0.817953</td>\n",
       "      <td>0.0</td>\n",
       "      <td>0.0</td>\n",
       "      <td>1.0</td>\n",
       "      <td>2.0</td>\n",
       "      <td>2.0</td>\n",
       "    </tr>\n",
       "    <tr>\n",
       "      <th>safety</th>\n",
       "      <td>1382.0</td>\n",
       "      <td>0.992041</td>\n",
       "      <td>0.818377</td>\n",
       "      <td>0.0</td>\n",
       "      <td>0.0</td>\n",
       "      <td>1.0</td>\n",
       "      <td>2.0</td>\n",
       "      <td>2.0</td>\n",
       "    </tr>\n",
       "    <tr>\n",
       "      <th>label</th>\n",
       "      <td>1382.0</td>\n",
       "      <td>0.415340</td>\n",
       "      <td>0.751342</td>\n",
       "      <td>0.0</td>\n",
       "      <td>0.0</td>\n",
       "      <td>0.0</td>\n",
       "      <td>1.0</td>\n",
       "      <td>3.0</td>\n",
       "    </tr>\n",
       "  </tbody>\n",
       "</table>\n",
       "</div>"
      ],
      "text/plain": [
       "                  count      mean       std  min  25%  50%  75%  max\n",
       "purchasing_cost  1382.0  1.490593  1.126142  0.0  0.0  1.0  3.0  3.0\n",
       "repair_cost      1382.0  1.495658  1.112588  0.0  1.0  2.0  2.0  3.0\n",
       "windows          1382.0  3.522431  1.117566  2.0  3.0  4.0  5.0  5.0\n",
       "people           1382.0  3.650507  1.242558  2.0  2.0  4.0  5.0  5.0\n",
       "space            1382.0  1.005789  0.817953  0.0  0.0  1.0  2.0  2.0\n",
       "safety           1382.0  0.992041  0.818377  0.0  0.0  1.0  2.0  2.0\n",
       "label            1382.0  0.415340  0.751342  0.0  0.0  0.0  1.0  3.0"
      ]
     },
     "execution_count": 13,
     "metadata": {},
     "output_type": "execute_result"
    }
   ],
   "source": [
    "# basic statistics info\n",
    "train.describe().transpose()"
   ]
  },
  {
   "cell_type": "code",
   "execution_count": 14,
   "metadata": {},
   "outputs": [
    {
     "data": {
      "text/plain": [
       "purchasing_cost    1.490593\n",
       "repair_cost        1.495658\n",
       "windows            3.522431\n",
       "people             3.650507\n",
       "space              1.005789\n",
       "safety             0.992041\n",
       "dtype: float64"
      ]
     },
     "execution_count": 14,
     "metadata": {},
     "output_type": "execute_result"
    }
   ],
   "source": [
    "# mean - The mean performance of an experiment gives a good idea of how the experiment will turn out on average under a given treatment.\n",
    "train[['purchasing_cost', 'repair_cost', 'windows', 'people', 'space','safety']].mean()  "
   ]
  },
  {
   "cell_type": "code",
   "execution_count": 15,
   "metadata": {},
   "outputs": [
    {
     "data": {
      "text/plain": [
       "purchasing_cost    1.268195\n",
       "repair_cost        1.237852\n",
       "windows            1.248953\n",
       "people             1.543950\n",
       "space              0.669047\n",
       "safety             0.669741\n",
       "dtype: float64"
      ]
     },
     "execution_count": 15,
     "metadata": {},
     "output_type": "execute_result"
    }
   ],
   "source": [
    "# variance - The variance in the performance provides a measurement of how consistent the results of an experiment are. The lower the variance, the more consistent the results are, and vice versa.\n",
    "train[['purchasing_cost', 'repair_cost', 'windows', 'people', 'space','safety']].var()  "
   ]
  },
  {
   "cell_type": "code",
   "execution_count": 16,
   "metadata": {},
   "outputs": [
    {
     "data": {
      "image/png": "[encoded data removed]",
      "text/plain": [
       "<matplotlib.figure.Figure at 0x14aa5320>"
      ]
     },
     "metadata": {},
     "output_type": "display_data"
    }
   ],
   "source": [
    "# pairplot using seaborn library\n",
    "# pairplot help us to find correlation among all features\n",
    "g = sns.pairplot(train, hue=\"label\")"
   ]
  },
  {
   "cell_type": "code",
   "execution_count": 17,
   "metadata": {},
   "outputs": [
    {
     "data": {
      "image/png": "[encoded data removed]",
      "text/plain": [
       "<matplotlib.figure.Figure at 0x1ae7a550>"
      ]
     },
     "metadata": {},
     "output_type": "display_data"
    }
   ],
   "source": [
    "# pairplot by explicit mention target and subject variable\n",
    "pp = sns.pairplot(data=train,\n",
    "                  y_vars=['label'],\n",
    "                  x_vars=['purchasing_cost', 'repair_cost', 'windows', 'people', 'space','safety'])"
   ]
  },
  {
   "cell_type": "markdown",
   "metadata": {
    "collapsed": true
   },
   "source": [
    "### Feature Engineering"
   ]
  },
  {
   "cell_type": "markdown",
   "metadata": {},
   "source": [
    "###### Feature Selection\n",
    "\n",
    "__Analysis__\n",
    "            1. feature selection using SelectKBest and chi2\n",
    "            \n",
    "__Finding__\n",
    "            1. Top 4 features selected based on Chi2 score are : ['purchasing_cost', 'repair_cost', 'people', 'safety']\n",
    "        "
   ]
  },
  {
   "cell_type": "code",
   "execution_count": 18,
   "metadata": {},
   "outputs": [
    {
     "name": "stdout",
     "output_type": "stream",
     "text": [
      "[111.08  78.27   3.06 109.9   27.74 212.98]\n",
      "Top 4 features selected based on Chi2 score are : ['purchasing_cost', 'repair_cost', 'people', 'safety']\n"
     ]
    }
   ],
   "source": [
    "import pandas\n",
    "import numpy\n",
    "from sklearn.feature_selection import SelectKBest\n",
    "from sklearn.feature_selection import chi2\n",
    "X = train.iloc[:,0:6]\n",
    "y = train.iloc[:,6]\n",
    "# feature extraction\n",
    "k_best = SelectKBest(score_func=chi2, k=4)\n",
    "fit = k_best.fit(X, y)\n",
    "# summarize scores\n",
    "numpy.set_printoptions(precision=2)\n",
    "print(fit.scores_)\n",
    "features = fit.transform(X)\n",
    "\n",
    "feature_names =  ['purchasing_cost', 'repair_cost', 'windows', 'people', 'space','safety']\n",
    "\n",
    "mask = k_best.get_support() #list of booleans\n",
    "new_features = [] # The list of your K best features\n",
    "\n",
    "for bool, feature in zip(mask, feature_names):\n",
    "    if bool:\n",
    "        new_features.append(feature)\n",
    "        \n",
    "print \"Top 4 features selected based on Chi2 score are : \" + str(new_features)"
   ]
  },
  {
   "cell_type": "markdown",
   "metadata": {},
   "source": [
    "#### Sampling techniques\n",
    "\n",
    "Solving the class Imbalance problem using imblearn library\n",
    "\n",
    "1. Undersampling - NearMiss\n",
    "2. Oversampling - RandomOverSampler\n",
    "3. Hybridsampling - SMOTETomek\n",
    "\n",
    "__Analysis__ -\n",
    "    I've compared all 3 techniques on all models and find that doing Oversampling giving me good kappa score"
   ]
  },
  {
   "cell_type": "code",
   "execution_count": 19,
   "metadata": {},
   "outputs": [
    {
     "data": {
      "text/plain": [
       "'\\n# undersampling\\nus = NearMiss(ratio=0.5, n_neighbors=3, version=2)\\nX_train_res, y_train_res = us.fit_sample(X_train, y_train)\\n\\nprint (\"Distribution of class labels before resampling {}\".format(Counter(y_train)))\\nprint (\"Distribution of class labels after resampling {}\".format(Counter(y_train_res)))\\n'"
      ]
     },
     "execution_count": 19,
     "metadata": {},
     "output_type": "execute_result"
    }
   ],
   "source": [
    "'''\n",
    "# undersampling\n",
    "us = NearMiss(ratio=0.5, n_neighbors=3, version=2)\n",
    "X_train_res, y_train_res = us.fit_sample(X_train, y_train)\n",
    "\n",
    "print (\"Distribution of class labels before resampling {}\".format(Counter(y_train)))\n",
    "print (\"Distribution of class labels after resampling {}\".format(Counter(y_train_res)))\n",
    "'''"
   ]
  },
  {
   "cell_type": "code",
   "execution_count": 20,
   "metadata": {},
   "outputs": [
    {
     "name": "stdout",
     "output_type": "stream",
     "text": [
      "Distribution of class labels before resampling Counter({0: 667, 1: 218, 3: 44, 2: 38})\n",
      "Distribution of class labels after resampling Counter({0: 667, 1: 333, 2: 333, 3: 333})\n"
     ]
    },
    {
     "name": "stderr",
     "output_type": "stream",
     "text": [
      "C:\\Users\\rahul.a.tripathi\\AppData\\Local\\Continuum\\anaconda2\\lib\\site-packages\\sklearn\\utils\\deprecation.py:77: DeprecationWarning: Function _ratio_float is deprecated; Use a float for 'ratio' is deprecated from version 0.2. The support will be removed in 0.4. Use a dict, str, or a callable instead.\n",
      "  warnings.warn(msg, category=DeprecationWarning)\n"
     ]
    }
   ],
   "source": [
    "# oversampling\n",
    "from imblearn.over_sampling import RandomOverSampler\n",
    "os =  RandomOverSampler(ratio=0.5)\n",
    "X_train_res, y_train_res = os.fit_sample(X_train, y_train)\n",
    "\n",
    "print (\"Distribution of class labels before resampling {}\".format(Counter(y_train)))\n",
    "print (\"Distribution of class labels after resampling {}\".format(Counter(y_train_res)))"
   ]
  },
  {
   "cell_type": "code",
   "execution_count": 21,
   "metadata": {},
   "outputs": [
    {
     "data": {
      "text/plain": [
       "'\\n# Hybridsampling\\nfrom imblearn.combine import SMOTETomek\\nos_us = SMOTETomek(ratio=0.5, k=5)\\nX_train_res, y_train_res = os_us.fit_sample(X_train, y_train)\\n\\nprint (\"Distribution of class labels before resampling {}\".format(Counter(y_train)))\\nprint (\"Distribution of class labels after resampling {}\".format(Counter(y_train_res)))\\n'"
      ]
     },
     "execution_count": 21,
     "metadata": {},
     "output_type": "execute_result"
    }
   ],
   "source": [
    "'''\n",
    "# Hybridsampling\n",
    "from imblearn.combine import SMOTETomek\n",
    "os_us = SMOTETomek(ratio=0.5, k=5)\n",
    "X_train_res, y_train_res = os_us.fit_sample(X_train, y_train)\n",
    "\n",
    "print (\"Distribution of class labels before resampling {}\".format(Counter(y_train)))\n",
    "print (\"Distribution of class labels after resampling {}\".format(Counter(y_train_res)))\n",
    "'''\n"
   ]
  },
  {
   "cell_type": "markdown",
   "metadata": {},
   "source": [
    "### Model Training\n",
    "\n",
    "Comparing multiple models on given train dataset\n",
    "\n",
    "For setting the Optimal Hyperparameter value i've run the gridsearchCV on base model to get correct hyperparameter values"
   ]
  },
  {
   "cell_type": "code",
   "execution_count": 22,
   "metadata": {
    "collapsed": true
   },
   "outputs": [],
   "source": [
    "#Random Forest Classifier\n",
    "def random_forest(X_train_res, X_test, y_train_res):\n",
    "    #rf_clf = RandomForestClassifier()                                                     # instance of random forest \n",
    "    rf_clf = RandomForestClassifier(criterion = 'gini', max_depth = 9, n_estimators = 100) # tuned random forest\n",
    "    rf_clf = rf_clf.fit(X_train_res,y_train_res)                                           # fitting sampled train dataset on rf\n",
    "    rf_predict = rf_clf.predict(X_test)                                                    # predicting on test dataset\n",
    "    rf_acc = accuracy_score(y_test,rf_predict)                                             # rf accuracy score\n",
    "    rf_kappa = cohen_kappa_score(y_test,rf_predict)                                        # rf cohen kappa score\n",
    "    accuracy = cross_val_score(rf_clf, X_train_res , y_train_res, cv=10,scoring = 'accuracy') # rf cross_val_score using 10-fold cv\n",
    "    f_score = cross_val_score(rf_clf, X_train_res , y_train_res, cv=10,scoring = 'f1_micro') # rf f1-score\n",
    "    rf_accuracy, rf_f_score = accuracy.mean(),f_score.mean()                                # taking acc and f1 mean score of all 10fold\n",
    "    #print \"accuracy and f_score are:  \"\n",
    "    return rf_accuracy, rf_f_score,rf_clf,rf_kappa                                          # returning rf_accuracy, rf_f_score,rf_clf,rf_kappa"
   ]
  },
  {
   "cell_type": "code",
   "execution_count": 23,
   "metadata": {},
   "outputs": [
    {
     "data": {
      "text/plain": [
       "0.8714235680801767"
      ]
     },
     "execution_count": 23,
     "metadata": {},
     "output_type": "execute_result"
    }
   ],
   "source": [
    "# printing random_forest kappa score\n",
    "rf_accuracy, rf_f_score, rf_clf,rf_kappa = random_forest(X_train_res, X_test, y_train_res)\n",
    "rf_kappa"
   ]
  },
  {
   "cell_type": "code",
   "execution_count": 24,
   "metadata": {
    "collapsed": true
   },
   "outputs": [],
   "source": [
    "#Decision Tree\n",
    "def decision_tree(X_train_res, X_test, y_train_res):\n",
    "    dt_clf = tree.DecisionTreeClassifier()                                                     # instance of decison tree classifier               \n",
    "    dt_clf.set_params(max_leaf_nodes = 50,max_depth = 10, max_features = None)                 # tuned decison tree\n",
    "    dt_clf = dt_clf.fit(X_train_res,y_train_res)                                               # fitting sampled train dataset on dt                                         \n",
    "    dt_predict = dt_clf.predict(X_test)                                                        # predicting on test dataset\n",
    "    dt_acc = accuracy_score(y_test,dt_predict)                                                 # dt accuracy score\n",
    "    dt_kappa = cohen_kappa_score(y_test,dt_predict)                                            # dt cohen kappa score\n",
    "    accuracy = cross_val_score(dt_clf, X_train_res , y_train_res, cv=10,scoring = 'accuracy')  # dt cross_val_score using 10-fold cv\n",
    "    f_score = cross_val_score(dt_clf, X_train_res , y_train_res, cv=10,scoring = 'f1_micro')   # dt f1-score\n",
    "    dt_accuracy, dt_f_score = accuracy.mean(),f_score.mean()                                   # taking acc and f1 mean score of all 10fold\n",
    "    #print \"accuracy and f_score are:  \"\n",
    "    return dt_accuracy, dt_f_score,dt_clf,dt_kappa                                             # returning dt_accuracy, dt_f_score,dt_clf,dt_kappa"
   ]
  },
  {
   "cell_type": "code",
   "execution_count": 25,
   "metadata": {},
   "outputs": [
    {
     "data": {
      "text/plain": [
       "0.8972122079423177"
      ]
     },
     "execution_count": 25,
     "metadata": {},
     "output_type": "execute_result"
    }
   ],
   "source": [
    "# printing decision tree kappa score\n",
    "dt_accuracy, dt_f_score, dt_clf,dt_kappa = decision_tree(X_train_res, X_test, y_train_res)\n",
    "dt_kappa"
   ]
  },
  {
   "cell_type": "code",
   "execution_count": 26,
   "metadata": {
    "collapsed": true
   },
   "outputs": [],
   "source": [
    "#Support Vector Machines\n",
    "def svc(X_train_res, X_test, y_train_res):\n",
    "    clf = svm.SVC()                                                                         # creating instance of svc\n",
    "    clf.set_params(C= 10, gamma= 0.1, kernel= 'rbf')                                        # tuned svc\n",
    "    #clf.set_params(C = 100, kernel = \"rbf\")\n",
    "    svm_clf = clf.fit(X_train_res,y_train_res)                                              # fitting model on sampled train data\n",
    "    svm_predict = svm_clf.predict(X_test)                                                   # predict on test data\n",
    "    svm_acc = accuracy_score(y_test,svm_predict)                                            # accuracy score\n",
    "    svm_kappa = cohen_kappa_score(y_test,svm_predict)                                       # cohen kappa score of svc\n",
    "    accuracy = cross_val_score(clf, X_train_res , y_train_res, cv=10,scoring = 'accuracy')  # 10-fold accuracy score\n",
    "    f_score = cross_val_score(clf, X_train_res , y_train_res, cv=10,scoring = 'f1_micro')   # 10-fold f1-score\n",
    "    svc_accuracy, svc_f_score = accuracy.mean(),f_score.mean()                              # f1 and accuracy mean score\n",
    "    #print \"accuracy and f_score are:  \"\n",
    "    return svc_accuracy, svc_f_score,svm_clf,svm_kappa                                      # return svc_accuracy, svc_f_score,svm_clf,svm_kappa\n"
   ]
  },
  {
   "cell_type": "code",
   "execution_count": 27,
   "metadata": {},
   "outputs": [
    {
     "data": {
      "text/plain": [
       "0.9155382486228325"
      ]
     },
     "execution_count": 27,
     "metadata": {},
     "output_type": "execute_result"
    }
   ],
   "source": [
    "# printing svc kappa score\n",
    "svc_accuracy, svc_f_score, svm_clf,svm_kappa = svc(X_train_res, X_test, y_train_res)\n",
    "svm_kappa"
   ]
  },
  {
   "cell_type": "code",
   "execution_count": 28,
   "metadata": {
    "collapsed": true
   },
   "outputs": [],
   "source": [
    "# k-NN \n",
    "def k_NN(X_train_res, X_test, y_train_res):\n",
    "    clf = KNeighborsClassifier()                                                            # instance of knn classifier\n",
    "    clf.set_params(n_neighbors= 2)                                                          # tuned knn\n",
    "    #clf.set_params(n_neighbors= 5,leaf_size = 30)          \n",
    "    knn_clf = clf.fit(X_train_res,y_train_res)                                              # fitting model on sampled train data\n",
    "    knn_predict = knn_clf.predict(X_test)                                                   # predict on test data\n",
    "    knn_acc = accuracy_score(y_test,knn_predict)                                            # accuracy score\n",
    "    knn_kappa = cohen_kappa_score(y_test,knn_predict)                                       # cohen kappa score of knn\n",
    "                                                   \n",
    "    accuracy = cross_val_score(clf, X_train_res , y_train_res, cv=10,scoring = 'accuracy')  # 10-fold accuracy score\n",
    "    f_score = cross_val_score(clf, X_train_res , y_train_res, cv=10,scoring = 'f1_micro')   # 10-fold f1-score\n",
    "    knn_accuracy, knn_f_score = accuracy.mean(),f_score.mean()                              # f1 and accuracy mean score\n",
    "    #print \"accuracy and f_score are:  \"\n",
    "    return knn_accuracy, knn_f_score,knn_clf,knn_kappa                                      # return knn_accuracy, knn_f_score,knn_clf,knn_kappa\n"
   ]
  },
  {
   "cell_type": "code",
   "execution_count": 29,
   "metadata": {},
   "outputs": [
    {
     "data": {
      "text/plain": [
       "0.6706486780000835"
      ]
     },
     "execution_count": 29,
     "metadata": {},
     "output_type": "execute_result"
    }
   ],
   "source": [
    "# printing knn kappa score\n",
    "knn_accuracy, knn_f_score, knn_clf,knn_kappa = k_NN(X_train_res, X_test, y_train_res)\n",
    "knn_kappa"
   ]
  },
  {
   "cell_type": "code",
   "execution_count": 30,
   "metadata": {
    "collapsed": true
   },
   "outputs": [],
   "source": [
    "#AdaBoost\n",
    "def ada_boost_classifier(X_train_res, X_test, y_train_res):\n",
    "    clf = AdaBoostClassifier(base_estimator = dt_clf)                                                      # instance of adaboost classifier\n",
    "    clf.set_params(base_estimator__criterion = 'gini',base_estimator__splitter= 'best',n_estimators = 100) # tuned adaboost\n",
    "    #clf.set_params(dt_clf,learning_rate = 1)\n",
    "    #clf.set_params(n_estimators = 10, learning_rate = 1)\n",
    "    ada_clf = clf.fit(X_train_res,y_train_res)                                                             # fitting model on sampled train data\n",
    "    ada_predict = ada_clf.predict(X_test)                                                                  # predict on test data\n",
    "    ada_acc = accuracy_score(y_test,ada_predict)                                                           # accuracy score\n",
    "    ada_kappa = cohen_kappa_score(y_test,ada_predict)                                                      # cohen kappa score of cohen_kappa\n",
    "    accuracy = cross_val_score(clf, X_train_res , y_train_res, cv=10,scoring = 'accuracy')                 # 10-fold accuracy score\n",
    "    f_score = cross_val_score(clf, X_train_res , y_train_res, cv=10,scoring = 'f1_micro')                  # 10-fold f1-score\n",
    "    ada_accuracy, ada_f_score = accuracy.mean(),f_score.mean()                                             # f1 and accuracy mean score\n",
    "    #print \"accuracy and f_score are:  \"\n",
    "    return ada_accuracy, ada_f_score,ada_clf,ada_kappa                                                     # return ada_accuracy, ada_f_score,ada_clf,ada_kappa "
   ]
  },
  {
   "cell_type": "code",
   "execution_count": 31,
   "metadata": {},
   "outputs": [
    {
     "data": {
      "text/plain": [
       "0.9480737949922841"
      ]
     },
     "execution_count": 31,
     "metadata": {},
     "output_type": "execute_result"
    }
   ],
   "source": [
    "# printing adaboost kappa score\n",
    "ada_accuracy, ada_f_score,ada_clf,ada_kappa = ada_boost_classifier(X_train_res, X_test, y_train_res)\n",
    "ada_kappa"
   ]
  },
  {
   "cell_type": "code",
   "execution_count": 32,
   "metadata": {
    "collapsed": true
   },
   "outputs": [],
   "source": [
    "#GradientBoostingClassifier\n",
    "def gradient_boosting_classifier(X_train_res, X_test, y_train_res):\n",
    "    clf = GradientBoostingClassifier()                                                     # instance of adaboost classifier\n",
    "    clf.set_params(learning_rate= 1, max_depth= 3, n_estimators = 30, min_samples_split=3) # tuned gradient boosting\n",
    "    #clf.set_params(n_estimators = 30,learning_rate = 1)\n",
    "    gb_clf = clf.fit(X_train_res,y_train_res)                                              # fitting model on sampled train data\n",
    "    gb_predict = gb_clf.predict(X_test)                                                    # predict on test data\n",
    "    gb_acc = accuracy_score(y_test,gb_predict)                                             # accuracy score\n",
    "    gb_kappa = cohen_kappa_score(y_test,gb_predict)                                        # cohen kappa score of cohen_kappa\n",
    "    accuracy = cross_val_score(clf, X_train_res , y_train_res, cv=10,scoring = 'accuracy') # 10-fold accuracy score\n",
    "    f_score = cross_val_score(clf, X_train_res , y_train_res, cv=10,scoring = 'f1_micro')  # 10-fold f1-score\n",
    "    gb_accuracy, gb_f_score = accuracy.mean(),f_score.mean()                               # f1 and accuracy mean score\n",
    "    #print \"accuracy and f_score are:  \"\n",
    "    return gb_accuracy, gb_f_score,gb_clf,gb_predict,gb_kappa                              # return gb_accuracy, gb_f_score,gb_clf,gb_predict,gb_kappa"
   ]
  },
  {
   "cell_type": "code",
   "execution_count": 33,
   "metadata": {},
   "outputs": [
    {
     "data": {
      "text/plain": [
       "0.9825091317785895"
      ]
     },
     "execution_count": 33,
     "metadata": {},
     "output_type": "execute_result"
    }
   ],
   "source": [
    "# printing gradient boosting kappa score\n",
    "gb_accuracy, gb_f_score,gb_clf,gb_predict, gb_kappa = gradient_boosting_classifier(X_train_res, X_test, y_train_res)\n",
    "gb_kappa"
   ]
  },
  {
   "cell_type": "code",
   "execution_count": 34,
   "metadata": {
    "collapsed": true
   },
   "outputs": [],
   "source": [
    "# storing all return values from all models\n",
    "rf_accuracy, rf_f_score, rf_clf,rf_kappa = random_forest(X_train_res, X_test, y_train_res)\n",
    "dt_accuracy, dt_f_score, dt_clf,dt_kappa = decision_tree(X_train_res, X_test, y_train_res)\n",
    "svc_accuracy, svc_f_score, svm_clf,svm_kappa = svc(X_train_res, X_test, y_train_res)\n",
    "knn_accuracy, knn_f_score, knn_clf,knn_kappa = k_NN(X_train_res, X_test, y_train_res)\n",
    "ada_accuracy, ada_f_score,ada_clf,ada_kappa = ada_boost_classifier(X_train_res, X_test, y_train_res)\n",
    "gb_accuracy, gb_f_score,gb_clf,gb_predict, gb_kappa = gradient_boosting_classifier(X_train_res, X_test, y_train_res)"
   ]
  },
  {
   "cell_type": "markdown",
   "metadata": {},
   "source": [
    "###### GridsearchCV  [Hyperparameter Tuning]\n",
    "\n",
    "Running GridsearchCV to find best hyperparameter values"
   ]
  },
  {
   "cell_type": "code",
   "execution_count": 35,
   "metadata": {
    "collapsed": true
   },
   "outputs": [],
   "source": [
    "def ada_param_selection(ada_clf):\n",
    "    param_grid = {\"base_estimator__criterion\" : [\"gini\", \"entropy\"],\n",
    "              \"base_estimator__splitter\" :   [\"best\", \"random\"],\n",
    "              \"n_estimators\": [5, 10, 15, 20, 100]\n",
    "             }\n",
    "    grid_clf = GridSearchCV(ada_clf, param_grid, cv=10)\n",
    "    grid_clf.fit(X_train, y_train)\n",
    "    best_param = grid_clf. best_params_\n",
    "    return best_param\n",
    "\n",
    "# best_param = ada_param_selection(ada_clf)\n",
    "# best_param"
   ]
  },
  {
   "cell_type": "code",
   "execution_count": 36,
   "metadata": {
    "collapsed": true
   },
   "outputs": [],
   "source": [
    "def rf_param_selection(rf_clf):\n",
    "    param_grid = {\n",
    "                 'n_estimators': [5, 10, 15, 20, 100],\n",
    "                 'max_depth': [2, 5, 7, 9],\n",
    "                 \"criterion\": [\"gini\", \"entropy\"]\n",
    "             }\n",
    "    grid_clf = GridSearchCV(rf_clf, param_grid, cv=10)\n",
    "    grid_clf.fit(X_train, y_train)\n",
    "    best_param = grid_clf. best_params_\n",
    "    return best_param\n",
    "\n",
    "# best_param = rf_param_selection(rf_clf)\n",
    "# best_param"
   ]
  },
  {
   "cell_type": "code",
   "execution_count": 37,
   "metadata": {
    "collapsed": true
   },
   "outputs": [],
   "source": [
    "def svc_param_selection(svm_clf):\n",
    "    Cs = [0.001, 0.01, 0.1, 1, 10]\n",
    "    gammas = [0.001, 0.01, 0.1, 1]\n",
    "    param_grid = {'C': Cs, 'gamma' : gammas, 'kernel': ['linear','rbf']}\n",
    "    grid_clf = GridSearchCV(svm_clf, param_grid, cv=10)\n",
    "    grid_clf.fit(X_train, y_train)\n",
    "    best_param = grid_clf. best_params_\n",
    "    return best_param\n",
    "# best_param = svc_param_selection(svm_clf)\n",
    "# best_param"
   ]
  },
  {
   "cell_type": "code",
   "execution_count": 38,
   "metadata": {
    "collapsed": true
   },
   "outputs": [],
   "source": [
    "def gb_param_selection(gb_clf):\n",
    "    param_grid = [ {'n_estimators': [20,30,50], 'learning_rate':[0.01,0.1,1], 'max_depth': [2,3,4], 'min_samples_split': [3]}, ]\n",
    "    grid_clf = GridSearchCV(gb_clf, param_grid, cv=10)\n",
    "    grid_clf.fit(X_train_res, y_train_res)\n",
    "    best_param = grid_clf. best_params_\n",
    "    return best_param\n",
    "#best_param = gb_param_selection(gb_clf)\n",
    "# best_param"
   ]
  },
  {
   "cell_type": "code",
   "execution_count": 39,
   "metadata": {
    "collapsed": true
   },
   "outputs": [],
   "source": [
    "def knn_param_selection(knn_clf):\n",
    "    k_range = list(range(1, 31))\n",
    "    param_grid = dict(n_neighbors=k_range)\n",
    "    grid_clf = GridSearchCV(knn_clf, param_grid, cv=10, scoring='accuracy')\n",
    "    grid_clf.fit(X_train_res, y_train_res)\n",
    "    best_param = grid_clf. best_params_\n",
    "    return best_param\n",
    "#best_param = knn_param_selection(knn_clf)\n",
    "#best_param"
   ]
  },
  {
   "cell_type": "markdown",
   "metadata": {},
   "source": [
    "#### Features Importance based on Random forest"
   ]
  },
  {
   "cell_type": "code",
   "execution_count": 40,
   "metadata": {},
   "outputs": [
    {
     "name": "stdout",
     "output_type": "stream",
     "text": [
      "Feature ranking:\n",
      "1. feature 5 (0.319412)\n",
      "2. feature 0 (0.191241)\n",
      "3. feature 3 (0.183764)\n",
      "4. feature 1 (0.151775)\n",
      "5. feature 4 (0.114732)\n",
      "6. feature 2 (0.039077)\n"
     ]
    },
    {
     "data": {
      "image/png": "[encoded data removed]",
      "text/plain": [
       "<matplotlib.figure.Figure at 0x1d0ecc50>"
      ]
     },
     "metadata": {},
     "output_type": "display_data"
    }
   ],
   "source": [
    "\n",
    "# selecting important features in the dataset\n",
    "importances = rf_clf.feature_importances_\n",
    "std = np.std([tree.feature_importances_ for tree in rf_clf.estimators_],\n",
    "             axis=0)\n",
    "indices = np.argsort(importances)[::-1]\n",
    "\n",
    "# Print the feature ranking\n",
    "print(\"Feature ranking:\")\n",
    "\n",
    "for f in range(X_train.shape[1]):\n",
    "    print(\"%d. feature %d (%f)\" % (f + 1, indices[f], importances[indices[f]]))\n",
    "\n",
    "# Plot the feature importances of the forest\n",
    "plt.figure(2)\n",
    "plt.title(\"Feature importances\")\n",
    "plt.bar(range(X_train.shape[1]), importances[indices],\n",
    "       color=\"cyan\", align=\"center\")\n",
    "plt.xticks(range(X_train.shape[1]), indices)\n",
    "plt.xlim([-1, X_train.shape[1]])\n",
    "plt.show()"
   ]
  },
  {
   "cell_type": "markdown",
   "metadata": {},
   "source": [
    "#### Evaluation"
   ]
  },
  {
   "cell_type": "code",
   "execution_count": 41,
   "metadata": {
    "collapsed": true
   },
   "outputs": [],
   "source": [
    "def accuracy_report():\n",
    "    accuracy_report = {'Models': ['Random Forest','Decision Tree', 'SVC', 'KNeighborsClassifier', 'AdaBoostClassifier', 'GradientBoostingClassifier' ],\n",
    "                  'model_accuracy': [rf_accuracy,dt_accuracy,svc_accuracy,knn_accuracy,ada_accuracy,gb_accuracy], 'cohen_kappa_score': [rf_kappa,dt_kappa,svm_kappa,knn_kappa,ada_kappa,gb_kappa], 'f1_score(micro)': [rf_f_score,dt_f_score,svc_f_score,knn_f_score,ada_f_score,gb_f_score] }\n",
    "    accuracy_report = pd.DataFrame(accuracy_report)\n",
    "    accuracy_report = accuracy_report.sort_values(by=['cohen_kappa_score'], ascending=False)\n",
    "    return accuracy_report"
   ]
  },
  {
   "cell_type": "code",
   "execution_count": 42,
   "metadata": {},
   "outputs": [
    {
     "data": {
      "text/html": [
       "<div>\n",
       "<style>\n",
       "    .dataframe thead tr:only-child th {\n",
       "        text-align: right;\n",
       "    }\n",
       "\n",
       "    .dataframe thead th {\n",
       "        text-align: left;\n",
       "    }\n",
       "\n",
       "    .dataframe tbody tr th {\n",
       "        vertical-align: top;\n",
       "    }\n",
       "</style>\n",
       "<table border=\"1\" class=\"dataframe\">\n",
       "  <thead>\n",
       "    <tr style=\"text-align: right;\">\n",
       "      <th></th>\n",
       "      <th>Models</th>\n",
       "      <th>cohen_kappa_score</th>\n",
       "      <th>f1_score(micro)</th>\n",
       "      <th>model_accuracy</th>\n",
       "    </tr>\n",
       "  </thead>\n",
       "  <tbody>\n",
       "    <tr>\n",
       "      <th>5</th>\n",
       "      <td>GradientBoostingClassifier</td>\n",
       "      <td>0.982509</td>\n",
       "      <td>0.995220</td>\n",
       "      <td>0.995220</td>\n",
       "    </tr>\n",
       "    <tr>\n",
       "      <th>4</th>\n",
       "      <td>AdaBoostClassifier</td>\n",
       "      <td>0.953697</td>\n",
       "      <td>0.994004</td>\n",
       "      <td>0.994607</td>\n",
       "    </tr>\n",
       "    <tr>\n",
       "      <th>2</th>\n",
       "      <td>SVC</td>\n",
       "      <td>0.915538</td>\n",
       "      <td>0.984975</td>\n",
       "      <td>0.984975</td>\n",
       "    </tr>\n",
       "    <tr>\n",
       "      <th>1</th>\n",
       "      <td>Decision Tree</td>\n",
       "      <td>0.897212</td>\n",
       "      <td>0.985000</td>\n",
       "      <td>0.984397</td>\n",
       "    </tr>\n",
       "    <tr>\n",
       "      <th>0</th>\n",
       "      <td>Random Forest</td>\n",
       "      <td>0.866770</td>\n",
       "      <td>0.984397</td>\n",
       "      <td>0.982604</td>\n",
       "    </tr>\n",
       "    <tr>\n",
       "      <th>3</th>\n",
       "      <td>KNeighborsClassifier</td>\n",
       "      <td>0.670649</td>\n",
       "      <td>0.933369</td>\n",
       "      <td>0.933369</td>\n",
       "    </tr>\n",
       "  </tbody>\n",
       "</table>\n",
       "</div>"
      ],
      "text/plain": [
       "                       Models  cohen_kappa_score  f1_score(micro)  \\\n",
       "5  GradientBoostingClassifier           0.982509         0.995220   \n",
       "4          AdaBoostClassifier           0.953697         0.994004   \n",
       "2                         SVC           0.915538         0.984975   \n",
       "1               Decision Tree           0.897212         0.985000   \n",
       "0               Random Forest           0.866770         0.984397   \n",
       "3        KNeighborsClassifier           0.670649         0.933369   \n",
       "\n",
       "   model_accuracy  \n",
       "5        0.995220  \n",
       "4        0.994607  \n",
       "2        0.984975  \n",
       "1        0.984397  \n",
       "0        0.982604  \n",
       "3        0.933369  "
      ]
     },
     "execution_count": 42,
     "metadata": {},
     "output_type": "execute_result"
    }
   ],
   "source": [
    "accuracy_report()"
   ]
  },
  {
   "cell_type": "markdown",
   "metadata": {},
   "source": [
    "##### Gradient boosting classification report"
   ]
  },
  {
   "cell_type": "code",
   "execution_count": 43,
   "metadata": {},
   "outputs": [
    {
     "name": "stdout",
     "output_type": "stream",
     "text": [
      "             precision    recall  f1-score   support\n",
      "\n",
      "          0       1.00      0.99      1.00       307\n",
      "          1       0.96      0.97      0.97        80\n",
      "          2       0.87      0.81      0.84        16\n",
      "          3       0.86      1.00      0.92        12\n",
      "\n",
      "avg / total       0.98      0.98      0.98       415\n",
      "\n"
     ]
    }
   ],
   "source": [
    "# Gradient boosting classification report\n",
    "from sklearn.metrics import classification_report\n",
    "gb_accuracy, gb_f_score,gb_clf,gb_predict,gb_kappa = gradient_boosting_classifier(X_train, X_test, y_train)\n",
    "print (classification_report(y_test,gb_predict))"
   ]
  },
  {
   "cell_type": "code",
   "execution_count": 44,
   "metadata": {},
   "outputs": [
    {
     "name": "stdout",
     "output_type": "stream",
     "text": [
      "Micro-averaged precision = 0.98 (treat instances equally)\n",
      "Macro-averaged precision = 0.92 (treat classes equally)\n"
     ]
    }
   ],
   "source": [
    "# micro/macro averged precision \n",
    "from sklearn.metrics import precision_score\n",
    "print('Micro-averaged precision = {:.2f} (treat instances equally)'\n",
    "      .format(precision_score(y_test,gb_predict, average = 'micro')))\n",
    "print('Macro-averaged precision = {:.2f} (treat classes equally)'\n",
    "      .format(precision_score(y_test,gb_predict, average = 'macro')))"
   ]
  },
  {
   "cell_type": "code",
   "execution_count": 45,
   "metadata": {},
   "outputs": [
    {
     "name": "stdout",
     "output_type": "stream",
     "text": [
      "Micro-averaged f1 = 0.98 (treat instances equally)\n",
      "Macro-averaged f1 = 0.93 (treat classes equally)\n"
     ]
    }
   ],
   "source": [
    "#micro/macro averged f1-score\n",
    "from sklearn.metrics import f1_score\n",
    "print('Micro-averaged f1 = {:.2f} (treat instances equally)'\n",
    "      .format(f1_score(y_test,gb_predict, average = 'micro')))\n",
    "print('Macro-averaged f1 = {:.2f} (treat classes equally)'\n",
    "      .format(f1_score(y_test,gb_predict, average = 'macro')))"
   ]
  },
  {
   "cell_type": "code",
   "execution_count": 46,
   "metadata": {},
   "outputs": [
    {
     "data": {
      "text/plain": [
       "0.9594850910713788"
      ]
     },
     "execution_count": 46,
     "metadata": {},
     "output_type": "execute_result"
    }
   ],
   "source": [
    "# cohen_kappa_score of gradient boosting\n",
    "from sklearn.metrics import cohen_kappa_score\n",
    "cohen_kappa_score(y_test,gb_predict)"
   ]
  },
  {
   "cell_type": "markdown",
   "metadata": {},
   "source": [
    "#### saving submission.csv using best model [Gradient boosting]"
   ]
  },
  {
   "cell_type": "code",
   "execution_count": 47,
   "metadata": {
    "collapsed": true
   },
   "outputs": [],
   "source": [
    "# saving the submission.csv in base location\n",
    "def submission():\n",
    "    result = test.copy(deep=True)                        # creating deep copy of test data so that it should not impact existing test data\n",
    "    label = gb_clf.predict(test)                         # predicting label data using gradient boosting classifier\n",
    "    result['label'] = label                              # creating new column name 'label' to store predicted label of test data\n",
    "    result = result.iloc[:,[6]]                          # fetching label column\n",
    "    # logic to reverse the dataframe\n",
    "    result['id'] = result.index                          # storing index of row in 'id' column\n",
    "    cols = result.columns.tolist()                       # storing dataframe columns in list\n",
    "    cols = cols[-1:] + cols[:-1]                         # reversing the dataframe column\n",
    "    result = result[cols]                                # storing reverse column in result dataframe\n",
    "    result.to_csv(location +  '\\\\' + 'submission.csv', index = False) # saving submission.csv"
   ]
  },
  {
   "cell_type": "code",
   "execution_count": 48,
   "metadata": {
    "collapsed": true
   },
   "outputs": [],
   "source": [
    "submission()  # saving submission.csv"
   ]
  },
  {
   "cell_type": "markdown",
   "metadata": {},
   "source": [
    "# Helping methods"
   ]
  },
  {
   "cell_type": "code",
   "execution_count": null,
   "metadata": {
    "collapsed": true
   },
   "outputs": [],
   "source": [
    "# Label Encode columns\n",
    "'''\n",
    "le = preprocessing.LabelEncoder();\n",
    "le.fit(df['capital city'])\n",
    "\n",
    "le.classes_\n",
    "\n",
    "train[\"capital city integers\"] = le.transform(train[\"capital city\"])\n",
    "test[\"capital city integers\"] = le.transform(test[\"capital city\"])\n",
    "'''"
   ]
  },
  {
   "cell_type": "code",
   "execution_count": 1,
   "metadata": {},
   "outputs": [
    {
     "data": {
      "text/plain": [
       "'\\nle = preprocessing.LabelEncoder()\\ntrain_df = train_df.apply(le.fit_transform)\\ntest_df = test_df.apply(le.fit_transform)\\n'"
      ]
     },
     "execution_count": 1,
     "metadata": {},
     "output_type": "execute_result"
    }
   ],
   "source": [
    "# Label Encoding in one shot\n",
    "'''\n",
    "le = preprocessing.LabelEncoder()\n",
    "train_df = train_df.apply(le.fit_transform)\n",
    "test_df = test_df.apply(le.fit_transform)\n",
    "\n",
    "'''"
   ]
  },
  {
   "cell_type": "code",
   "execution_count": 2,
   "metadata": {},
   "outputs": [
    {
     "data": {
      "text/plain": [
       "'\\nfrom sklearn.metrics import confusion_matrix\\nrf = confusion_matrix(y_test, y_pred)\\nprint \"Confusion Matrix\"\\nprint rf\\n'"
      ]
     },
     "execution_count": 2,
     "metadata": {},
     "output_type": "execute_result"
    }
   ],
   "source": [
    "# Making the Confusion Matrix\n",
    "'''\n",
    "from sklearn.metrics import confusion_matrix\n",
    "rf = confusion_matrix(y_test, y_pred)\n",
    "print \"Confusion Matrix\"\n",
    "print rf\n",
    "'''"
   ]
  },
  {
   "cell_type": "code",
   "execution_count": 3,
   "metadata": {},
   "outputs": [
    {
     "data": {
      "text/plain": [
       "'\\n# Displaying ROC Curve\\n#ROC Curve\\nplt.figure(1)\\nlw = 2\\nplt.plot(fpr_rf, tpr_rf, color=\\'darkorange\\',\\n         lw=lw, label=\\'Random Forest(AUC = %0.2f)\\' % roc_auc_rf)\\n\\nplt.plot([0, 1], [0, 1], color=\\'navy\\', lw=lw, linestyle=\\'--\\')\\n\\nplt.xlim([0.0, 1.0])\\nplt.ylim([0.0, 1.05])\\nplt.xlabel(\\'False Positive Rate\\')\\nplt.ylabel(\\'True Positive Rate\\')\\nplt.title(\\'Receiver Operating Characteristic(ROC_curve)\\')\\nplt.legend(loc=\"lower right\")\\n'"
      ]
     },
     "execution_count": 3,
     "metadata": {},
     "output_type": "execute_result"
    }
   ],
   "source": [
    "'''\n",
    "# Displaying ROC Curve\n",
    "#ROC Curve\n",
    "plt.figure(1)\n",
    "lw = 2\n",
    "plt.plot(fpr_rf, tpr_rf, color='darkorange',\n",
    "         lw=lw, label='Random Forest(AUC = %0.2f)' % roc_auc_rf)\n",
    "\n",
    "plt.plot([0, 1], [0, 1], color='navy', lw=lw, linestyle='--')\n",
    "\n",
    "plt.xlim([0.0, 1.0])\n",
    "plt.ylim([0.0, 1.05])\n",
    "plt.xlabel('False Positive Rate')\n",
    "plt.ylabel('True Positive Rate')\n",
    "plt.title('Receiver Operating Characteristic(ROC_curve)')\n",
    "plt.legend(loc=\"lower right\")\n",
    "'''"
   ]
  },
  {
   "cell_type": "code",
   "execution_count": 4,
   "metadata": {},
   "outputs": [
    {
     "data": {
      "text/plain": [
       "\"\\nfrom sklearn.preprocessing import Imputer\\nimputer = Imputer(missing_values = 'NaN', strategy = 'mean', axis = 0)\\nimputer.fit(features) \\nfeatures = imputer.transform(features)\\n\""
      ]
     },
     "execution_count": 4,
     "metadata": {},
     "output_type": "execute_result"
    }
   ],
   "source": [
    "# Deal with NAN values\n",
    "'''\n",
    "from sklearn.preprocessing import Imputer\n",
    "imputer = Imputer(missing_values = 'NaN', strategy = 'mean', axis = 0)\n",
    "imputer.fit(features) \n",
    "features = imputer.transform(features)\n",
    "'''"
   ]
  },
  {
   "cell_type": "code",
   "execution_count": 5,
   "metadata": {},
   "outputs": [
    {
     "data": {
      "text/plain": [
       "'\\nfrom sklearn.preprocessing import StandardScaler\\nscale_features_std = StandardScaler()\\nfeatures_train = scale_features_std.fit_transform(features_train)\\nfeatures_test = scale_features_std.transform(features_test)\\n\\n# Feature scaling with MinMaxScaler\\nfrom sklearn.preprocessing import MinMaxScaler\\nscale_features_mm = MinMaxScaler()\\nfeatures_train = scale_features_mm.fit_transform(features_train)\\nfeatures_test = scale_features_mm.transform(features_test)\\n'"
      ]
     },
     "execution_count": 5,
     "metadata": {},
     "output_type": "execute_result"
    }
   ],
   "source": [
    "# Feature scaling with StandardScaler\n",
    "'''\n",
    "from sklearn.preprocessing import StandardScaler\n",
    "scale_features_std = StandardScaler()\n",
    "features_train = scale_features_std.fit_transform(features_train)\n",
    "features_test = scale_features_std.transform(features_test)\n",
    "\n",
    "# Feature scaling with MinMaxScaler\n",
    "from sklearn.preprocessing import MinMaxScaler\n",
    "scale_features_mm = MinMaxScaler()\n",
    "features_train = scale_features_mm.fit_transform(features_train)\n",
    "features_test = scale_features_mm.transform(features_test)\n",
    "'''"
   ]
  },
  {
   "cell_type": "code",
   "execution_count": 6,
   "metadata": {},
   "outputs": [
    {
     "data": {
      "text/plain": [
       "'\\nfrom sklearn.decomposition import PCA\\nfrom sklearn.svm import SVC\\n\\npca = PCA(n_components=2)\\n\\nX_pca = pca.fit_transform(X)\\n\\nX_pca.shape\\n\\nSVC().fit(X_pca, y).score(X_pca, y)\\n'"
      ]
     },
     "execution_count": 6,
     "metadata": {},
     "output_type": "execute_result"
    }
   ],
   "source": [
    "# Dimensionality reduction\n",
    "'''\n",
    "from sklearn.decomposition import PCA\n",
    "from sklearn.svm import SVC\n",
    "\n",
    "pca = PCA(n_components=2)\n",
    "\n",
    "X_pca = pca.fit_transform(X)\n",
    "\n",
    "X_pca.shape\n",
    "\n",
    "SVC().fit(X_pca, y).score(X_pca, y)\n",
    "'''"
   ]
  },
  {
   "cell_type": "code",
   "execution_count": null,
   "metadata": {
    "collapsed": true
   },
   "outputs": [],
   "source": []
  }
 ],
 "metadata": {
  "kernelspec": {
   "display_name": "Python 2",
   "language": "python",
   "name": "python2"
  },
  "language_info": {
   "codemirror_mode": {
    "name": "ipython",
    "version": 2
   },
   "file_extension": ".py",
   "mimetype": "text/x-python",
   "name": "python",
   "nbconvert_exporter": "python",
   "pygments_lexer": "ipython2",
   "version": "2.7.14"
  }
 },
 "nbformat": 4,
 "nbformat_minor": 2
}
